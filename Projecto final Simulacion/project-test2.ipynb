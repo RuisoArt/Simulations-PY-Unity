{
 "cells": [
  {
   "cell_type": "markdown",
   "metadata": {},
   "source": [
    "# Conocer Datasets Telefonica"
   ]
  },
  {
   "cell_type": "markdown",
   "metadata": {},
   "source": [
    "Los datasets de Telefonica recogidos para este ejercicio son 5 que corresponde a las diferentes finanzas dadas en los poises donde la empresa cotiza.\n",
    "\n",
    "1. O2D.DE.csv  => Telefónica Deutschland Holding AG (O2D.DE) XETRA - XETRA Delayed Price. Currency in EUR\n",
    "2. TEF.csv     => Telefónica, S.A. (TEF) NYSE - Nasdaq Real Time Price. Currency in USD\n",
    "3. TEF.MC.csv  => Telefónica, S.A. (TEF.MC) MCE - MCE Delayed Price. Currency in EUR\n",
    "4. VIV.BA.csv  => Telefônica Brasil S.A. (VIV.BA) Buenos Aires - Buenos Aires Delayed Price. Currency in ARS\n",
    "5. VIV.csv     => Telefônica Brasil S.A. (VIV) NYSE - Nasdaq Real Time Price. Currency in USD\n",
    "\n",
    "El valor de la moneda en cada uno de los dataset es el siguiente:\n",
    "\n",
    "1. O2D.DE.csv  => Currency in EUR\n",
    "2. TEF.csv     => Currency in USD\n",
    "3. TEF.MC.csv  => Currency in EUR\n",
    "4. VIV.BA.csv  => Currency in ARS\n",
    "5. VIV.csv     => Currency in USD\n"
   ]
  },
  {
   "cell_type": "code",
   "execution_count": 4,
   "metadata": {},
   "outputs": [],
   "source": [
    "import pandas as pd\n",
    "import matplotlib.pyplot as plt"
   ]
  },
  {
   "cell_type": "markdown",
   "metadata": {},
   "source": [
    "## Metodos"
   ]
  },
  {
   "cell_type": "code",
   "execution_count": 27,
   "metadata": {},
   "outputs": [],
   "source": [
    "def informacion(dataframe):\n",
    "    print(\"\\n\\n Numero de datos (filas): \", dataframe.shape[0])\n",
    "    print(\"\\n\\n Tipos de datos de este dataset: \\n\", dataframe.dtypes)\n",
    "    print(\"\\n\\n Nombre de columnas: \", dataframe.keys())\n",
    "    print(\"\\n\\n Cuantos nulos hay en este dataset: \\n\", dataframe.isnull().sum())\n",
    "\n",
    "def head_data (dataframe):\n",
    "    return dataframe.head(3)"
   ]
  },
  {
   "cell_type": "markdown",
   "metadata": {},
   "source": [
    "## Dataset 1 O2D.DE.csv"
   ]
  },
  {
   "cell_type": "code",
   "execution_count": 19,
   "metadata": {},
   "outputs": [],
   "source": [
    "# Rutas de los datasets\n",
    "\n",
    "route_1 = './datasets/telefonica/O2D.DE.csv'\n",
    "route_2 = './datasets/telefonica/TEF.csv'\n",
    "route_3 = './datasets/telefonica/TEF.MC.csv'\n",
    "route_4 = './datasets/telefonica/VIV.BA.csv'\n",
    "route_5 = './datasets/telefonica/VIV.csv'\n",
    "\n",
    "# Leer los datasets\n",
    "\n",
    "df_eins = pd.read_csv(route_1)\n",
    "df_zwei = pd.read_csv(route_2)\n",
    "df_drei = pd.read_csv(route_3)\n",
    "df_vier = pd.read_csv(route_4)\n",
    "df_fünf = pd.read_csv(route_5)\n"
   ]
  },
  {
   "cell_type": "markdown",
   "metadata": {},
   "source": [
    "### Mostrar Contenido General Dataframes"
   ]
  },
  {
   "cell_type": "code",
   "execution_count": 29,
   "metadata": {},
   "outputs": [
    {
     "data": {
      "text/html": [
       "<div>\n",
       "<style scoped>\n",
       "    .dataframe tbody tr th:only-of-type {\n",
       "        vertical-align: middle;\n",
       "    }\n",
       "\n",
       "    .dataframe tbody tr th {\n",
       "        vertical-align: top;\n",
       "    }\n",
       "\n",
       "    .dataframe thead th {\n",
       "        text-align: right;\n",
       "    }\n",
       "</style>\n",
       "<table border=\"1\" class=\"dataframe\">\n",
       "  <thead>\n",
       "    <tr style=\"text-align: right;\">\n",
       "      <th></th>\n",
       "      <th>Date</th>\n",
       "      <th>Open</th>\n",
       "      <th>High</th>\n",
       "      <th>Low</th>\n",
       "      <th>Close</th>\n",
       "      <th>Adj Close</th>\n",
       "      <th>Volume</th>\n",
       "    </tr>\n",
       "  </thead>\n",
       "  <tbody>\n",
       "    <tr>\n",
       "      <th>0</th>\n",
       "      <td>2021-11-16</td>\n",
       "      <td>2.524</td>\n",
       "      <td>2.543</td>\n",
       "      <td>2.515</td>\n",
       "      <td>2.516</td>\n",
       "      <td>2.360851</td>\n",
       "      <td>5740347</td>\n",
       "    </tr>\n",
       "    <tr>\n",
       "      <th>1</th>\n",
       "      <td>2021-11-17</td>\n",
       "      <td>2.520</td>\n",
       "      <td>2.549</td>\n",
       "      <td>2.513</td>\n",
       "      <td>2.549</td>\n",
       "      <td>2.391816</td>\n",
       "      <td>4492715</td>\n",
       "    </tr>\n",
       "    <tr>\n",
       "      <th>2</th>\n",
       "      <td>2021-11-18</td>\n",
       "      <td>2.537</td>\n",
       "      <td>2.550</td>\n",
       "      <td>2.501</td>\n",
       "      <td>2.519</td>\n",
       "      <td>2.363666</td>\n",
       "      <td>3678836</td>\n",
       "    </tr>\n",
       "  </tbody>\n",
       "</table>\n",
       "</div>"
      ],
      "text/plain": [
       "         Date   Open   High    Low  Close  Adj Close   Volume\n",
       "0  2021-11-16  2.524  2.543  2.515  2.516   2.360851  5740347\n",
       "1  2021-11-17  2.520  2.549  2.513  2.549   2.391816  4492715\n",
       "2  2021-11-18  2.537  2.550  2.501  2.519   2.363666  3678836"
      ]
     },
     "execution_count": 29,
     "metadata": {},
     "output_type": "execute_result"
    }
   ],
   "source": [
    "array_temp = [df_eins, df_zwei, df_drei, df_vier, df_fünf]\n",
    "\n",
    "#for i in range(len(array_temp)):\n",
    "head_data(array_temp[0])"
   ]
  },
  {
   "cell_type": "code",
   "execution_count": 28,
   "metadata": {},
   "outputs": [
    {
     "data": {
      "text/html": [
       "<div>\n",
       "<style scoped>\n",
       "    .dataframe tbody tr th:only-of-type {\n",
       "        vertical-align: middle;\n",
       "    }\n",
       "\n",
       "    .dataframe tbody tr th {\n",
       "        vertical-align: top;\n",
       "    }\n",
       "\n",
       "    .dataframe thead th {\n",
       "        text-align: right;\n",
       "    }\n",
       "</style>\n",
       "<table border=\"1\" class=\"dataframe\">\n",
       "  <thead>\n",
       "    <tr style=\"text-align: right;\">\n",
       "      <th></th>\n",
       "      <th>Date</th>\n",
       "      <th>Open</th>\n",
       "      <th>High</th>\n",
       "      <th>Low</th>\n",
       "      <th>Close</th>\n",
       "      <th>Adj Close</th>\n",
       "      <th>Volume</th>\n",
       "    </tr>\n",
       "  </thead>\n",
       "  <tbody>\n",
       "    <tr>\n",
       "      <th>0</th>\n",
       "      <td>2021-11-16</td>\n",
       "      <td>4.53</td>\n",
       "      <td>4.54</td>\n",
       "      <td>4.42</td>\n",
       "      <td>4.44</td>\n",
       "      <td>4.149565</td>\n",
       "      <td>1114800</td>\n",
       "    </tr>\n",
       "    <tr>\n",
       "      <th>1</th>\n",
       "      <td>2021-11-17</td>\n",
       "      <td>4.40</td>\n",
       "      <td>4.45</td>\n",
       "      <td>4.40</td>\n",
       "      <td>4.45</td>\n",
       "      <td>4.158911</td>\n",
       "      <td>1401900</td>\n",
       "    </tr>\n",
       "    <tr>\n",
       "      <th>2</th>\n",
       "      <td>2021-11-18</td>\n",
       "      <td>4.50</td>\n",
       "      <td>4.51</td>\n",
       "      <td>4.46</td>\n",
       "      <td>4.48</td>\n",
       "      <td>4.186949</td>\n",
       "      <td>2106200</td>\n",
       "    </tr>\n",
       "  </tbody>\n",
       "</table>\n",
       "</div>"
      ],
      "text/plain": [
       "         Date  Open  High   Low  Close  Adj Close   Volume\n",
       "0  2021-11-16  4.53  4.54  4.42   4.44   4.149565  1114800\n",
       "1  2021-11-17  4.40  4.45  4.40   4.45   4.158911  1401900\n",
       "2  2021-11-18  4.50  4.51  4.46   4.48   4.186949  2106200"
      ]
     },
     "execution_count": 28,
     "metadata": {},
     "output_type": "execute_result"
    }
   ],
   "source": [
    "head_data(df_zwei)"
   ]
  },
  {
   "cell_type": "code",
   "execution_count": 30,
   "metadata": {},
   "outputs": [
    {
     "data": {
      "text/html": [
       "<div>\n",
       "<style scoped>\n",
       "    .dataframe tbody tr th:only-of-type {\n",
       "        vertical-align: middle;\n",
       "    }\n",
       "\n",
       "    .dataframe tbody tr th {\n",
       "        vertical-align: top;\n",
       "    }\n",
       "\n",
       "    .dataframe thead th {\n",
       "        text-align: right;\n",
       "    }\n",
       "</style>\n",
       "<table border=\"1\" class=\"dataframe\">\n",
       "  <thead>\n",
       "    <tr style=\"text-align: right;\">\n",
       "      <th></th>\n",
       "      <th>Date</th>\n",
       "      <th>Open</th>\n",
       "      <th>High</th>\n",
       "      <th>Low</th>\n",
       "      <th>Close</th>\n",
       "      <th>Adj Close</th>\n",
       "      <th>Volume</th>\n",
       "    </tr>\n",
       "  </thead>\n",
       "  <tbody>\n",
       "    <tr>\n",
       "      <th>0</th>\n",
       "      <td>2021-11-16</td>\n",
       "      <td>3.9085</td>\n",
       "      <td>3.9840</td>\n",
       "      <td>3.899</td>\n",
       "      <td>3.9000</td>\n",
       "      <td>3.523742</td>\n",
       "      <td>43630864</td>\n",
       "    </tr>\n",
       "    <tr>\n",
       "      <th>1</th>\n",
       "      <td>2021-11-17</td>\n",
       "      <td>3.9000</td>\n",
       "      <td>3.9230</td>\n",
       "      <td>3.875</td>\n",
       "      <td>3.9160</td>\n",
       "      <td>3.538198</td>\n",
       "      <td>9450597</td>\n",
       "    </tr>\n",
       "    <tr>\n",
       "      <th>2</th>\n",
       "      <td>2021-11-18</td>\n",
       "      <td>3.9055</td>\n",
       "      <td>3.9875</td>\n",
       "      <td>3.900</td>\n",
       "      <td>3.9455</td>\n",
       "      <td>3.564852</td>\n",
       "      <td>30913830</td>\n",
       "    </tr>\n",
       "  </tbody>\n",
       "</table>\n",
       "</div>"
      ],
      "text/plain": [
       "         Date    Open    High    Low   Close  Adj Close    Volume\n",
       "0  2021-11-16  3.9085  3.9840  3.899  3.9000   3.523742  43630864\n",
       "1  2021-11-17  3.9000  3.9230  3.875  3.9160   3.538198   9450597\n",
       "2  2021-11-18  3.9055  3.9875  3.900  3.9455   3.564852  30913830"
      ]
     },
     "execution_count": 30,
     "metadata": {},
     "output_type": "execute_result"
    }
   ],
   "source": [
    "head_data(array_temp[2])"
   ]
  },
  {
   "cell_type": "code",
   "execution_count": 31,
   "metadata": {},
   "outputs": [
    {
     "data": {
      "text/html": [
       "<div>\n",
       "<style scoped>\n",
       "    .dataframe tbody tr th:only-of-type {\n",
       "        vertical-align: middle;\n",
       "    }\n",
       "\n",
       "    .dataframe tbody tr th {\n",
       "        vertical-align: top;\n",
       "    }\n",
       "\n",
       "    .dataframe thead th {\n",
       "        text-align: right;\n",
       "    }\n",
       "</style>\n",
       "<table border=\"1\" class=\"dataframe\">\n",
       "  <thead>\n",
       "    <tr style=\"text-align: right;\">\n",
       "      <th></th>\n",
       "      <th>Date</th>\n",
       "      <th>Open</th>\n",
       "      <th>High</th>\n",
       "      <th>Low</th>\n",
       "      <th>Close</th>\n",
       "      <th>Adj Close</th>\n",
       "      <th>Volume</th>\n",
       "    </tr>\n",
       "  </thead>\n",
       "  <tbody>\n",
       "    <tr>\n",
       "      <th>0</th>\n",
       "      <td>2021-11-16</td>\n",
       "      <td>1901.0</td>\n",
       "      <td>1901.0</td>\n",
       "      <td>1901.0</td>\n",
       "      <td>1901.0</td>\n",
       "      <td>1900.389404</td>\n",
       "      <td>0</td>\n",
       "    </tr>\n",
       "    <tr>\n",
       "      <th>1</th>\n",
       "      <td>2021-11-17</td>\n",
       "      <td>1881.0</td>\n",
       "      <td>1881.0</td>\n",
       "      <td>1881.0</td>\n",
       "      <td>1881.0</td>\n",
       "      <td>1880.395752</td>\n",
       "      <td>41</td>\n",
       "    </tr>\n",
       "    <tr>\n",
       "      <th>2</th>\n",
       "      <td>2021-11-18</td>\n",
       "      <td>1915.5</td>\n",
       "      <td>1915.5</td>\n",
       "      <td>1879.0</td>\n",
       "      <td>1879.0</td>\n",
       "      <td>1878.396362</td>\n",
       "      <td>6</td>\n",
       "    </tr>\n",
       "  </tbody>\n",
       "</table>\n",
       "</div>"
      ],
      "text/plain": [
       "         Date    Open    High     Low   Close    Adj Close  Volume\n",
       "0  2021-11-16  1901.0  1901.0  1901.0  1901.0  1900.389404       0\n",
       "1  2021-11-17  1881.0  1881.0  1881.0  1881.0  1880.395752      41\n",
       "2  2021-11-18  1915.5  1915.5  1879.0  1879.0  1878.396362       6"
      ]
     },
     "execution_count": 31,
     "metadata": {},
     "output_type": "execute_result"
    }
   ],
   "source": [
    "head_data(array_temp[3])"
   ]
  },
  {
   "cell_type": "code",
   "execution_count": 32,
   "metadata": {},
   "outputs": [
    {
     "data": {
      "text/html": [
       "<div>\n",
       "<style scoped>\n",
       "    .dataframe tbody tr th:only-of-type {\n",
       "        vertical-align: middle;\n",
       "    }\n",
       "\n",
       "    .dataframe tbody tr th {\n",
       "        vertical-align: top;\n",
       "    }\n",
       "\n",
       "    .dataframe thead th {\n",
       "        text-align: right;\n",
       "    }\n",
       "</style>\n",
       "<table border=\"1\" class=\"dataframe\">\n",
       "  <thead>\n",
       "    <tr style=\"text-align: right;\">\n",
       "      <th></th>\n",
       "      <th>Date</th>\n",
       "      <th>Open</th>\n",
       "      <th>High</th>\n",
       "      <th>Low</th>\n",
       "      <th>Close</th>\n",
       "      <th>Adj Close</th>\n",
       "      <th>Volume</th>\n",
       "    </tr>\n",
       "  </thead>\n",
       "  <tbody>\n",
       "    <tr>\n",
       "      <th>0</th>\n",
       "      <td>2021-11-16</td>\n",
       "      <td>8.89</td>\n",
       "      <td>8.95</td>\n",
       "      <td>8.83</td>\n",
       "      <td>8.93</td>\n",
       "      <td>8.422136</td>\n",
       "      <td>821300</td>\n",
       "    </tr>\n",
       "    <tr>\n",
       "      <th>1</th>\n",
       "      <td>2021-11-17</td>\n",
       "      <td>8.86</td>\n",
       "      <td>8.91</td>\n",
       "      <td>8.81</td>\n",
       "      <td>8.87</td>\n",
       "      <td>8.365548</td>\n",
       "      <td>880200</td>\n",
       "    </tr>\n",
       "    <tr>\n",
       "      <th>2</th>\n",
       "      <td>2021-11-18</td>\n",
       "      <td>8.87</td>\n",
       "      <td>8.94</td>\n",
       "      <td>8.82</td>\n",
       "      <td>8.82</td>\n",
       "      <td>8.318392</td>\n",
       "      <td>970900</td>\n",
       "    </tr>\n",
       "  </tbody>\n",
       "</table>\n",
       "</div>"
      ],
      "text/plain": [
       "         Date  Open  High   Low  Close  Adj Close  Volume\n",
       "0  2021-11-16  8.89  8.95  8.83   8.93   8.422136  821300\n",
       "1  2021-11-17  8.86  8.91  8.81   8.87   8.365548  880200\n",
       "2  2021-11-18  8.87  8.94  8.82   8.82   8.318392  970900"
      ]
     },
     "execution_count": 32,
     "metadata": {},
     "output_type": "execute_result"
    }
   ],
   "source": [
    "head_data(array_temp[4])"
   ]
  },
  {
   "cell_type": "markdown",
   "metadata": {},
   "source": [
    "### Informacion de los Dataset"
   ]
  },
  {
   "cell_type": "code",
   "execution_count": null,
   "metadata": {},
   "outputs": [],
   "source": []
  },
  {
   "cell_type": "code",
   "execution_count": 16,
   "metadata": {},
   "outputs": [
    {
     "name": "stdout",
     "output_type": "stream",
     "text": [
      "\n",
      "\n",
      " Numero de datos (filas):  258\n",
      "\n",
      "\n",
      " Tipos de datos de este dataset: \n",
      " Date          object\n",
      "Open         float64\n",
      "High         float64\n",
      "Low          float64\n",
      "Close        float64\n",
      "Adj Close    float64\n",
      "Volume         int64\n",
      "dtype: object\n",
      "\n",
      "\n",
      " Nombre de columnas:  Index(['Date', 'Open', 'High', 'Low', 'Close', 'Adj Close', 'Volume'], dtype='object')\n",
      "\n",
      "\n",
      " Cuantos nulos hay en este dataset: \n",
      " Date         0\n",
      "Open         0\n",
      "High         0\n",
      "Low          0\n",
      "Close        0\n",
      "Adj Close    0\n",
      "Volume       0\n",
      "dtype: int64\n"
     ]
    }
   ],
   "source": [
    "informacion(df_DEU)"
   ]
  },
  {
   "cell_type": "code",
   "execution_count": 14,
   "metadata": {},
   "outputs": [
    {
     "data": {
      "image/png": "[encoded data removed]",
      "text/plain": [
       "<Figure size 2000x500 with 1 Axes>"
      ]
     },
     "metadata": {},
     "output_type": "display_data"
    }
   ],
   "source": [
    "x = df_DEU['Date']\n",
    "y = df_DEU['Close']\n",
    "\n",
    "fig, ax = plt.subplots(figsize=(20,5))\n",
    "ax.fill_between(x, y, alpha=0.5, color='g')\n",
    "\n",
    "plt.show()"
   ]
  },
  {
   "cell_type": "code",
   "execution_count": null,
   "metadata": {},
   "outputs": [],
   "source": []
  },
  {
   "cell_type": "code",
   "execution_count": null,
   "metadata": {},
   "outputs": [],
   "source": []
  },
  {
   "cell_type": "code",
   "execution_count": null,
   "metadata": {},
   "outputs": [],
   "source": []
  }
 ],
 "metadata": {
  "kernelspec": {
   "display_name": "Python 3.10.8 64-bit",
   "language": "python",
   "name": "python3"
  },
  "language_info": {
   "codemirror_mode": {
    "name": "ipython",
    "version": 3
   },
   "file_extension": ".py",
   "mimetype": "text/x-python",
   "name": "python",
   "nbconvert_exporter": "python",
   "pygments_lexer": "ipython3",
   "version": "3.10.8"
  },
  "orig_nbformat": 4,
  "vscode": {
   "interpreter": {
    "hash": "26de051ba29f2982a8de78e945f0abaf191376122a1563185a90213a26c5da77"
   }
  }
 },
 "nbformat": 4,
 "nbformat_minor": 2
}
